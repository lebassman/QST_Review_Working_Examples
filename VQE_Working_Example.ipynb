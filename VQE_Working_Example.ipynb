{
 "cells": [
  {
   "cell_type": "code",
   "execution_count": 1,
   "metadata": {},
   "outputs": [],
   "source": [
    "# Necessary imports\n",
    "import pylab as py\n",
    "import numpy as np\n",
    "\n",
    "import qiskit as qk\n",
    "from qiskit import Aer\n",
    "from qiskit import assemble\n",
    "\n",
    "from scipy.linalg import eigvalsh, eigh"
   ]
  },
  {
   "cell_type": "code",
   "execution_count": 2,
   "metadata": {},
   "outputs": [],
   "source": [
    "# Define the Pauli matrices here to reduce dependencies on other packages\n",
    "X = np.array([[0,1],[1,0]],dtype=float)\n",
    "Z = np.array([[1,0],[0,-1]],dtype=float)\n",
    "Y = np.array([[0,-1.j],[1.j,0]],dtype=complex)\n",
    "eye2 = np.array([[1,0],[0,1]],dtype=float)\n",
    "\n",
    "\n",
    "# Part of the reduced Hubbard Hamiltonian\n",
    "X1 = np.kron(X,eye2)\n",
    "X2 = np.kron(eye2,X)\n",
    "ZZ = np.kron(Z,Z)"
   ]
  },
  {
   "cell_type": "code",
   "execution_count": 3,
   "metadata": {},
   "outputs": [
    {
     "data": {
      "text/plain": [
       "-2.828427124746189"
      ]
     },
     "execution_count": 3,
     "metadata": {},
     "output_type": "execute_result"
    }
   ],
   "source": [
    "# Helper function to determine the exact eigen energy (only used for plotting)\n",
    "\n",
    "def energy_exact(t,U):\n",
    "    \n",
    "    ham = -t*(X1+X2) + U/2. * ZZ\n",
    "    evals = eigvalsh(ham)\n",
    "    return evals[0]\n",
    "\n",
    "# Try it out\n",
    "energy_exact(1.,4.)"
   ]
  },
  {
   "cell_type": "code",
   "execution_count": 4,
   "metadata": {},
   "outputs": [
    {
     "data": {
      "text/html": [
       "<pre style=\"word-wrap: normal;white-space: pre;background: #fff0;line-height: 1.1;font-family: &quot;Courier New&quot;,Courier,monospace\">      ┌───┐┌──────────┐┌─────────┐     ┌─────────┐     ┌─────────┐┌──────────┐\n",
       "q0_0: ┤ H ├┤ RZ(0.01) ├┤ RX(π/2) ├──■──┤ RX(0.1) ├──■──┤ RZ(0.3) ├┤ RX(-π/2) ├\n",
       "      ├───┤├──────────┤├─────────┤┌─┴─┐├─────────┤┌─┴─┐├─────────┤├──────────┤\n",
       "q0_1: ┤ H ├┤ RZ(0.01) ├┤ RX(π/2) ├┤ X ├┤ RZ(0.2) ├┤ X ├┤ RZ(0.3) ├┤ RX(-π/2) ├\n",
       "      └───┘└──────────┘└─────────┘└───┘└─────────┘└───┘└─────────┘└──────────┘</pre>"
      ],
      "text/plain": [
       "      ┌───┐┌──────────┐┌─────────┐     ┌─────────┐     ┌─────────┐┌──────────┐\n",
       "q0_0: ┤ H ├┤ RZ(0.01) ├┤ RX(π/2) ├──■──┤ RX(0.1) ├──■──┤ RZ(0.3) ├┤ RX(-π/2) ├\n",
       "      ├───┤├──────────┤├─────────┤┌─┴─┐├─────────┤┌─┴─┐├─────────┤├──────────┤\n",
       "q0_1: ┤ H ├┤ RZ(0.01) ├┤ RX(π/2) ├┤ X ├┤ RZ(0.2) ├┤ X ├┤ RZ(0.3) ├┤ RX(-π/2) ├\n",
       "      └───┘└──────────┘└─────────┘└───┘└─────────┘└───┘└─────────┘└──────────┘"
      ]
     },
     "execution_count": 4,
     "metadata": {},
     "output_type": "execute_result"
    }
   ],
   "source": [
    "# Creates a minimal state preparation circuit with input angles that we will\n",
    "# optimize.\n",
    "def stateprep_circuit(th0,th1,th2,th3):\n",
    "    \n",
    "    qr = qk.QuantumRegister(2)\n",
    "    qc = qk.QuantumCircuit(qr)\n",
    "\n",
    "    qc.h(0)\n",
    "    qc.h(1)\n",
    "    \n",
    "    qc.rz(th0,0)\n",
    "    qc.rz(th0,1)\n",
    "    \n",
    "    qc.rx(np.pi/2,0)\n",
    "    qc.rx(np.pi/2,1)\n",
    "    \n",
    "    qc.cx(0,1)    \n",
    "    qc.rx(th1,0)\n",
    "    qc.rz(th2,1)\n",
    "    qc.cx(0,1)\n",
    "    \n",
    "    qc.rz(th3,0)\n",
    "    qc.rz(th3,1)\n",
    "    \n",
    "    qc.rx(-np.pi/2,0)\n",
    "    qc.rx(-np.pi/2,1)\n",
    "    \n",
    "    # Measurement will be added later on\n",
    "    \n",
    "    return qc\n",
    "\n",
    "\n",
    "angles = [0.01,0.1,0.2,0.3]\n",
    "qc=stateprep_circuit(*angles)\n",
    "qc.draw()"
   ]
  },
  {
   "cell_type": "code",
   "execution_count": null,
   "metadata": {},
   "outputs": [],
   "source": []
  },
  {
   "cell_type": "code",
   "execution_count": 5,
   "metadata": {},
   "outputs": [],
   "source": [
    "# Function that prepares the circuit, adds the Z \n",
    "# measurements, runs the circuit, and does some\n",
    "# simple parsing to extract the 4 possible\n",
    "# 2-site Z measurements.\n",
    "\n",
    "def prepare_measure_Z(angles,nshots=2048):\n",
    "    \n",
    "    qc=stateprep_circuit(*angles)\n",
    "    qc.measure_all()\n",
    "    \n",
    "    sv_sim = Aer.get_backend('qasm_simulator')\n",
    "    qobj = assemble(qc,shots=nshots)\n",
    "    job = sv_sim.run(qobj)\n",
    "    \n",
    "    res = job.result().get_counts()\n",
    "\n",
    "    # In case we happened to get zero counts\n",
    "    # for these, manually add them to the dict\n",
    "    klist = ['00','01','10','11']\n",
    "    for k in klist:\n",
    "        if k not in res.keys():\n",
    "            res[k] = 0\n",
    "    \n",
    "    # Possible Z measurements: II, IZ, ZI, ZZ\n",
    "    meas = {}\n",
    "    meas['II'] = (res['00'] + res['01'] + res['10'] + res['11'])/nshots\n",
    "    meas['IZ'] = (res['00'] - res['01'] + res['10'] - res['11'])/nshots\n",
    "    meas['ZI'] = (res['00'] + res['01'] - res['10'] - res['11'])/nshots\n",
    "    meas['ZZ'] = (res['00'] - res['01'] - res['10'] + res['11'])/nshots\n",
    "\n",
    "    return meas\n",
    "\n",
    "# Function that prepares the circuit, adds the X \n",
    "# measurements, runs the circuit, and does some\n",
    "# simple parsing to extract the 4 possible\n",
    "# 2-site X measurements.\n",
    "\n",
    "def prepare_measure_X(angles,nshots=2048):\n",
    "    qc=stateprep_circuit(*angles)\n",
    "\n",
    "    # Rotate into X basis\n",
    "    qc.h(0)\n",
    "    qc.h(1)\n",
    "    \n",
    "    qc.measure_all()\n",
    "\n",
    "    sv_sim = Aer.get_backend('qasm_simulator')\n",
    "    qobj = assemble(qc,shots=nshots)\n",
    "    job = sv_sim.run(qobj)\n",
    "    \n",
    "    res = job.result().get_counts()\n",
    "    \n",
    "    # In case we happened to get zero counts\n",
    "    # for these, manually add them to the dict\n",
    "    klist = ['00','01','10','11']\n",
    "    for k in klist:\n",
    "        if k not in res.keys():\n",
    "            res[k] = 0\n",
    "    \n",
    "    # Possible X measurements: II, IX, XI, XX\n",
    "    meas = {}\n",
    "    meas['II'] = (res['00'] + res['01'] + res['10'] + res['11'])/nshots\n",
    "    meas['IX'] = (res['00'] - res['01'] + res['10'] - res['11'])/nshots\n",
    "    meas['XI'] = (res['00'] + res['01'] - res['10'] - res['11'])/nshots\n",
    "    meas['XX'] = (res['00'] - res['01'] - res['10'] + res['11'])/nshots\n",
    "    \n",
    "    return meas\n",
    "    \n"
   ]
  },
  {
   "cell_type": "code",
   "execution_count": 6,
   "metadata": {},
   "outputs": [],
   "source": [
    "def cost_function(x, parameters):\n",
    "    Xmeas = prepare_measure_X(x,parameters[\"nshots\"])\n",
    "    Zmeas = prepare_measure_Z(x,parameters[\"nshots\"])\n",
    "    \n",
    "    hopping = -parameters[\"t\"] * (Xmeas['IX'] + Xmeas['XI'])\n",
    "    Coulomb =  parameters[\"U\"]/2 * Zmeas['ZZ']\n",
    "    \n",
    "    return hopping + Coulomb\n"
   ]
  },
  {
   "cell_type": "code",
   "execution_count": 7,
   "metadata": {},
   "outputs": [
    {
     "data": {
      "text/plain": [
       "-0.12559999999999996"
      ]
     },
     "execution_count": 7,
     "metadata": {},
     "output_type": "execute_result"
    }
   ],
   "source": [
    "def average_cost(x,parameters):\n",
    "    \n",
    "    N = parameters['N']\n",
    "    \n",
    "    accumulator = 0\n",
    "    for j in range(N):\n",
    "        accumulator += cost_function(x,parameters)\n",
    "    return accumulator/N\n",
    "\n",
    "def test_average_cost(t,U):\n",
    "    x = np.array([0.01,0.2,0.3,0.4])*2\n",
    "    parameters = {}\n",
    "    parameters[\"t\"] = t\n",
    "    parameters[\"U\"] = U\n",
    "    parameters[\"N\"] = 100\n",
    "    parameters[\"nshots\"] = 100\n",
    "    \n",
    "    res=average_cost(x, parameters)\n",
    "    return res\n",
    "\n",
    "test_average_cost(1.,4.)"
   ]
  },
  {
   "cell_type": "code",
   "execution_count": 8,
   "metadata": {},
   "outputs": [
    {
     "name": "stdout",
     "output_type": "stream",
     "text": [
      " final_simplex: (array([[9.66205723e-01, 1.53680043e+00, 3.73214749e-05, 6.37011349e-01],\n",
      "       [9.66205723e-01, 1.53680043e+00, 3.73214749e-05, 6.37011349e-01],\n",
      "       [9.66205723e-01, 1.53680043e+00, 3.73214749e-05, 6.37011349e-01],\n",
      "       [9.66205723e-01, 1.53680043e+00, 3.73214749e-05, 6.37011349e-01],\n",
      "       [9.66205723e-01, 1.53680043e+00, 3.73214749e-05, 6.37011349e-01]]), array([-2.91308594, -2.86865234, -2.84863281, -2.84179688, -2.81201172]))\n",
      "           fun: -2.9130859375\n",
      "       message: 'Maximum number of function evaluations has been exceeded.'\n",
      "          nfev: 801\n",
      "           nit: 295\n",
      "        status: 1\n",
      "       success: False\n",
      "             x: array([9.66205723e-01, 1.53680043e+00, 3.73214749e-05, 6.37011349e-01])\n",
      "\n",
      "Optimized energy:  -2.9130859375\n",
      "Exact energy:  -2.828427124746189\n"
     ]
    }
   ],
   "source": [
    "# Test a single minimization.  We'll use the Nelder-Mead method,\n",
    "# which is designed for optimizing noisy data.\n",
    "\n",
    "def test_min(t,U):\n",
    "    from scipy.optimize import minimize\n",
    "\n",
    "    # Initial guesses inspired by the solution at large U\n",
    "    x = np.array([0.6,0.7,0,0.3])*2\n",
    "    \n",
    "    parameters = {}\n",
    "    parameters[\"t\"] = t\n",
    "    parameters[\"U\"] = U\n",
    "    parameters[\"N\"] = 1\n",
    "    parameters[\"nshots\"] = 4096\n",
    "\n",
    "    result = minimize(cost_function, x0 = x, args=(parameters),method='Nelder-Mead')\n",
    "    print(result)\n",
    "    \n",
    "    # Compare to Exact Hamiltonian\n",
    "    print(\"\")\n",
    "    print(\"Optimized energy: \",result.fun)\n",
    "    print(\"Exact energy: \",energy_exact(t,U))\n",
    "    \n",
    "    \n",
    "test_min(t=1.0,U=4.)"
   ]
  },
  {
   "cell_type": "code",
   "execution_count": null,
   "metadata": {},
   "outputs": [],
   "source": [
    "# Run the optimization procedure for a single t,U point.\n",
    "def do_min(t,U,x):\n",
    "    from scipy.optimize import minimize\n",
    "    \n",
    "    parameters = {}\n",
    "    parameters[\"t\"] = t\n",
    "    parameters[\"U\"] = U\n",
    "    parameters[\"N\"] = 1\n",
    "    parameters[\"nshots\"] = 8096*5\n",
    "\n",
    "    result = minimize(average_cost, x0 = x, args=(parameters),method='Nelder-Mead')\n",
    "    \n",
    "    # Compare to Exact Hamiltonian\n",
    "    print(U,t)\n",
    "    print(\"Optimized energy: \",result.fun)\n",
    "    print(\"Exact energy: \",energy_exact(t,U))\n",
    "    \n",
    "    return result.fun,result.x"
   ]
  },
  {
   "cell_type": "code",
   "execution_count": 9,
   "metadata": {},
   "outputs": [
    {
     "name": "stdout",
     "output_type": "stream",
     "text": [
      "0.0 1.0\n",
      "Optimized energy:  -2.0\n",
      "Exact energy:  -2.0\n",
      "0.4444444444444444 1.0\n",
      "Optimized energy:  -2.0067028985507247\n",
      "Exact energy:  -2.012307808474981\n",
      "0.8888888888888888 1.0\n",
      "Optimized energy:  -2.0312692138779096\n",
      "Exact energy:  -2.0487876571761965\n",
      "1.3333333333333333 1.0\n",
      "Optimized energy:  -2.1054347826086954\n",
      "Exact energy:  -2.1081851067789197\n",
      "1.7777777777777777 1.0\n",
      "Optimized energy:  -2.185693895476504\n",
      "Exact energy:  -2.1886350670658015\n",
      "2.2222222222222223 1.0\n",
      "Optimized energy:  -2.2976119894598153\n",
      "Exact energy:  -2.2879178091082224\n",
      "2.6666666666666665 1.0\n",
      "Optimized energy:  -2.426581027667984\n",
      "Exact energy:  -2.403700850309326\n",
      "3.1111111111111107 1.0\n",
      "Optimized energy:  -2.5591787439613523\n",
      "Exact energy:  -2.533723166886973\n",
      "3.5555555555555554 1.0\n",
      "Optimized energy:  -2.7035737812911727\n",
      "Exact energy:  -2.6759099063982874\n",
      "4.0 1.0\n",
      "Optimized energy:  -2.8575592885375496\n",
      "Exact energy:  -2.828427124746189\n"
     ]
    }
   ],
   "source": [
    "# Warning -- this cell might take a bit!\n",
    "\n",
    "# Set physics parameters: t and list of U to try\n",
    "t = 1.0\n",
    "Ulist = np.linspace(0,4,10)\n",
    "\n",
    "# Initial guesses inspired by the solution at large U\n",
    "guess = np.array([0.6,0.7,0,0.3])*2\n",
    "\n",
    "# Store optimized angles and energies\n",
    "opt_results = {}\n",
    "Elist = np.zeros([len(Ulist),2])\n",
    "\n",
    "# Optimize for all U values in the selected range\n",
    "for iU,U in enumerate(Ulist):\n",
    "    Elist[iU,0] = energy_exact(t,U)\n",
    "    Elist[iU,1],coefs = do_min(t,U,guess)\n",
    "    opt_results[iU] = coefs\n",
    "        \n"
   ]
  },
  {
   "cell_type": "code",
   "execution_count": 12,
   "metadata": {},
   "outputs": [
    {
     "data": {
      "text/plain": [
       "<matplotlib.legend.Legend at 0x13ad58510>"
      ]
     },
     "execution_count": 12,
     "metadata": {},
     "output_type": "execute_result"
    },
    {
     "data": {
      "image/png": "[encoded data removed]",
      "text/plain": [
       "<Figure size 432x288 with 1 Axes>"
      ]
     },
     "metadata": {
      "needs_background": "light"
     },
     "output_type": "display_data"
    }
   ],
   "source": [
    "# Make a plot of the resulting optimized energies\n",
    "fig, ax = py.subplots()\n",
    "ax.plot(Ulist, Elist[:,0],label=\"Exact\")\n",
    "ax.plot(Ulist, Elist[:,1],'o',label=\"VQE\")\n",
    "ax.set_xlabel(\"U/J\")\n",
    "ax.set_ylabel(\"Energy [J]\")\n",
    "ax.legend()"
   ]
  },
  {
   "cell_type": "code",
   "execution_count": 13,
   "metadata": {},
   "outputs": [],
   "source": [
    "# Sample a number of energies at the optimum to get an idea of\n",
    "# the spread\n",
    "\n",
    "def build_energy_statistics(angles):\n",
    "    Nsamples = 10\n",
    "    parameters = {}\n",
    "    parameters[\"t\"] = t\n",
    "    parameters[\"U\"] = U\n",
    "    parameters[\"N\"] = 1\n",
    "    parameters[\"nshots\"] = 8096\n",
    "    \n",
    "    energy_samples = np.zeros(Nsamples)\n",
    "    for n in range(Nsamples):\n",
    "        energy_samples[n] = average_cost(angles,parameters)\n",
    "        \n",
    "    return np.average(energy_samples),np.std(energy_samples)\n",
    "\n",
    "en_stats = np.zeros([len(Ulist),2])\n",
    "for iU,U in enumerate(Ulist):\n",
    "    angles = opt_results[iU]\n",
    "    en_stats[iU,:] = build_energy_statistics(angles)\n",
    "    \n"
   ]
  },
  {
   "cell_type": "code",
   "execution_count": 15,
   "metadata": {},
   "outputs": [
    {
     "data": {
      "text/plain": [
       "<matplotlib.legend.Legend at 0x13a8f43d0>"
      ]
     },
     "execution_count": 15,
     "metadata": {},
     "output_type": "execute_result"
    },
    {
     "data": {
      "image/png": "[encoded data removed]",
      "text/plain": [
       "<Figure size 432x288 with 1 Axes>"
      ]
     },
     "metadata": {
      "needs_background": "light"
     },
     "output_type": "display_data"
    }
   ],
   "source": [
    "fig, ax = py.subplots()\n",
    "ax.errorbar(Ulist, en_stats[:,0], en_stats[:,1],capsize=4,fmt='.',label='VQE')\n",
    "ax.plot(Ulist,Elist[:,1],label='Exact')\n",
    "ax.set_xlabel(\"U/J\",fontsize=20)\n",
    "ax.set_ylabel(r\"$\\langle H \\rangle$/J\",fontsize=20)\n",
    "ax.legend()"
   ]
  }
 ],
 "metadata": {
  "kernelspec": {
   "display_name": "Python 3",
   "language": "python",
   "name": "python3"
  },
  "language_info": {
   "codemirror_mode": {
    "name": "ipython",
    "version": 3
   },
   "file_extension": ".py",
   "mimetype": "text/x-python",
   "name": "python",
   "nbconvert_exporter": "python",
   "pygments_lexer": "ipython3",
   "version": "3.7.9"
  }
 },
 "nbformat": 4,
 "nbformat_minor": 4
}
